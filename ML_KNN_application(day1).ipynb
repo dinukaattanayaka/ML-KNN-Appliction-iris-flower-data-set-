{
  "nbformat": 4,
  "nbformat_minor": 0,
  "metadata": {
    "colab": {
      "provenance": [],
      "mount_file_id": "1hVemYQHUlTdTmRjNyqMpDB2jc2wWjWC8",
      "authorship_tag": "ABX9TyNYJlUi1gmhtpyVnkI9EeeB",
      "include_colab_link": true
    },
    "kernelspec": {
      "name": "python3",
      "display_name": "Python 3"
    },
    "language_info": {
      "name": "python"
    }
  },
  "cells": [
    {
      "cell_type": "markdown",
      "metadata": {
        "id": "view-in-github",
        "colab_type": "text"
      },
      "source": [
        "<a href=\"https://colab.research.google.com/github/dinukaattanayaka/ML-KNN-Appliction-iris-flower-data-set-/blob/main/ML_KNN_application(day1).ipynb\" target=\"_parent\"><img src=\"https://colab.research.google.com/assets/colab-badge.svg\" alt=\"Open In Colab\"/></a>"
      ]
    },
    {
      "cell_type": "code",
      "source": [
        "print(\"connect colab with git\")"
      ],
      "metadata": {
        "colab": {
          "base_uri": "https://localhost:8080/"
        },
        "id": "DfSCG-4oP9-u",
        "outputId": "136a7712-9859-45c5-d485-bb3f477f97c5"
      },
      "execution_count": null,
      "outputs": [
        {
          "output_type": "stream",
          "name": "stdout",
          "text": [
            "connect colab with git\n"
          ]
        }
      ]
    }
  ]
}